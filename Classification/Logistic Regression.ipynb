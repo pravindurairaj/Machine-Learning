{
 "cells": [
  {
   "cell_type": "code",
   "execution_count": 1,
   "metadata": {},
   "outputs": [],
   "source": [
    "#Importing all the necessary and used libraries\n",
    "import numpy as np\n",
    "import pandas as pd\n",
    "import matplotlib.pyplot as plt\n",
    "from sklearn.preprocessing import LabelEncoder,LabelBinarizer\n",
    "from sklearn.model_selection import train_test_split\n",
    "from sklearn.metrics import accuracy_score,confusion_matrix,roc_curve,roc_auc_score,auc,classification_report\n",
    "from sklearn.linear_model import LogisticRegression\n",
    "from sklearn.preprocessing import StandardScaler\n",
    "import seaborn as sns"
   ]
  },
  {
   "cell_type": "code",
   "execution_count": 2,
   "metadata": {},
   "outputs": [
    {
     "data": {
      "text/plain": [
       "calorific_value           0\n",
       "nitrogen                  0\n",
       "turbidity                 0\n",
       "style                     0\n",
       "alcohol                   0\n",
       "sugars                    0\n",
       "bitterness                0\n",
       "beer_id                   0\n",
       "colour                    0\n",
       "degree_of_fermentation    0\n",
       "dtype: int64"
      ]
     },
     "execution_count": 2,
     "metadata": {},
     "output_type": "execute_result"
    }
   ],
   "source": [
    "#Reading data from beer.txt\n",
    "beerData=pd.read_csv(\"beer.txt\",sep='\\t',header=None)\n",
    "\n",
    "#Naming the columns \n",
    "beerData.columns=[\"calorific_value\",\"nitrogen\",\"turbidity\",\"style\",\"alcohol\",\"sugars\",\"bitterness\",\"beer_id\",\"colour\",\"degree_of_fermentation\"]\n",
    "\n",
    "#Checking if there are any null values present in the given dataset \n",
    "beerData.isna().sum()"
   ]
  },
  {
   "cell_type": "code",
   "execution_count": 3,
   "metadata": {},
   "outputs": [],
   "source": [
    "#beer_id doesn't contribute significantly to the dataset, hence ignoring the feature\n",
    "beerData = beerData.drop('beer_id',axis=1)\n",
    "\n",
    "#Separating training and test data based on the given ratio of 2:1\n",
    "X = beerData.drop('style',axis=1)\n",
    "y = beerData[['style']]"
   ]
  },
  {
   "cell_type": "code",
   "execution_count": 4,
   "metadata": {},
   "outputs": [
    {
     "data": {
      "text/html": [
       "<div>\n",
       "<style scoped>\n",
       "    .dataframe tbody tr th:only-of-type {\n",
       "        vertical-align: middle;\n",
       "    }\n",
       "\n",
       "    .dataframe tbody tr th {\n",
       "        vertical-align: top;\n",
       "    }\n",
       "\n",
       "    .dataframe thead th {\n",
       "        text-align: right;\n",
       "    }\n",
       "</style>\n",
       "<table border=\"1\" class=\"dataframe\">\n",
       "  <thead>\n",
       "    <tr style=\"text-align: right;\">\n",
       "      <th></th>\n",
       "      <th>calorific_value</th>\n",
       "      <th>nitrogen</th>\n",
       "      <th>turbidity</th>\n",
       "      <th>style</th>\n",
       "      <th>alcohol</th>\n",
       "      <th>sugars</th>\n",
       "      <th>bitterness</th>\n",
       "      <th>colour</th>\n",
       "      <th>degree_of_fermentation</th>\n",
       "    </tr>\n",
       "  </thead>\n",
       "  <tbody>\n",
       "    <tr>\n",
       "      <th>0</th>\n",
       "      <td>41.721239</td>\n",
       "      <td>0.503276</td>\n",
       "      <td>2.628182</td>\n",
       "      <td>ale</td>\n",
       "      <td>4.015385</td>\n",
       "      <td>16.73</td>\n",
       "      <td>10.452789</td>\n",
       "      <td>13.44</td>\n",
       "      <td>55.337143</td>\n",
       "    </tr>\n",
       "    <tr>\n",
       "      <th>1</th>\n",
       "      <td>42.429204</td>\n",
       "      <td>0.525512</td>\n",
       "      <td>1.776364</td>\n",
       "      <td>ale</td>\n",
       "      <td>4.092308</td>\n",
       "      <td>16.72</td>\n",
       "      <td>10.999526</td>\n",
       "      <td>12.24</td>\n",
       "      <td>58.380000</td>\n",
       "    </tr>\n",
       "    <tr>\n",
       "      <th>2</th>\n",
       "      <td>45.880531</td>\n",
       "      <td>0.443233</td>\n",
       "      <td>2.628182</td>\n",
       "      <td>ale</td>\n",
       "      <td>4.276923</td>\n",
       "      <td>16.68</td>\n",
       "      <td>13.456368</td>\n",
       "      <td>10.92</td>\n",
       "      <td>58.382857</td>\n",
       "    </tr>\n",
       "    <tr>\n",
       "      <th>3</th>\n",
       "      <td>45.305310</td>\n",
       "      <td>0.471668</td>\n",
       "      <td>1.806364</td>\n",
       "      <td>ale</td>\n",
       "      <td>4.126154</td>\n",
       "      <td>18.84</td>\n",
       "      <td>9.202737</td>\n",
       "      <td>10.92</td>\n",
       "      <td>58.525714</td>\n",
       "    </tr>\n",
       "    <tr>\n",
       "      <th>4</th>\n",
       "      <td>38.977876</td>\n",
       "      <td>0.392846</td>\n",
       "      <td>2.272727</td>\n",
       "      <td>ale</td>\n",
       "      <td>4.015385</td>\n",
       "      <td>16.77</td>\n",
       "      <td>9.457895</td>\n",
       "      <td>10.56</td>\n",
       "      <td>58.900000</td>\n",
       "    </tr>\n",
       "  </tbody>\n",
       "</table>\n",
       "</div>"
      ],
      "text/plain": [
       "   calorific_value  nitrogen  turbidity style   alcohol  sugars  bitterness  \\\n",
       "0        41.721239  0.503276   2.628182   ale  4.015385   16.73   10.452789   \n",
       "1        42.429204  0.525512   1.776364   ale  4.092308   16.72   10.999526   \n",
       "2        45.880531  0.443233   2.628182   ale  4.276923   16.68   13.456368   \n",
       "3        45.305310  0.471668   1.806364   ale  4.126154   18.84    9.202737   \n",
       "4        38.977876  0.392846   2.272727   ale  4.015385   16.77    9.457895   \n",
       "\n",
       "   colour  degree_of_fermentation  \n",
       "0   13.44               55.337143  \n",
       "1   12.24               58.380000  \n",
       "2   10.92               58.382857  \n",
       "3   10.92               58.525714  \n",
       "4   10.56               58.900000  "
      ]
     },
     "execution_count": 4,
     "metadata": {},
     "output_type": "execute_result"
    }
   ],
   "source": [
    "#To check the first few columns in the dataset\n",
    "beerData.head()"
   ]
  },
  {
   "cell_type": "code",
   "execution_count": 5,
   "metadata": {},
   "outputs": [],
   "source": [
    "#Scaling is applied to standardise all the values of the feature class and fit them to the variable.\n",
    "#Here, standardscaler function is used to standardize the values to unit variance.\n",
    "\n",
    "scaler = StandardScaler().fit(X)\n",
    "X = scaler.transform(X)\n",
    "X = pd.DataFrame(X)"
   ]
  },
  {
   "cell_type": "code",
   "execution_count": 6,
   "metadata": {},
   "outputs": [],
   "source": [
    "#Using sklearn in-built  function to split the data into train and test set in 2/3 and 1/3 ratio\n",
    "X_train, X_test, y_train, y_test = train_test_split(X, y, test_size=0.33)\n",
    "\n",
    "#Encoder function converts the given categorical values to intergral values\n",
    "def Encoder(targetClass):\n",
    "    y_final = []\n",
    "    for style in targetClass['style']:\n",
    "        if style=='ale':\n",
    "            y_final.append(0)\n",
    "        elif style=='lager':\n",
    "            y_final.append(1)\n",
    "        elif style=='stout':\n",
    "            y_final.append(2)\n",
    "    return np.asarray(y_final)\n",
    "\n",
    "y_train = Encoder(y_train)\n",
    "y_test = Encoder(y_test)"
   ]
  },
  {
   "cell_type": "code",
   "execution_count": 7,
   "metadata": {},
   "outputs": [],
   "source": [
    "#Hypothesis to used to find the dot product of feature and theta\n",
    "def hypothesis(X,theta):\n",
    "    z = np.dot(X,theta)\n",
    "    return sigmoid(z)\n",
    "\n",
    "#Sigmoid function to determine probabilty of a class\n",
    "def sigmoid(z):\n",
    "    return (1/(1+np.exp(-z)))\n",
    "\n",
    "datasetSize = X.shape[0]\n",
    "\n",
    "#To determine error likelihood by decreasing the negative of the error value \n",
    "def costFunction(X,y,theta):\n",
    "    yPrerdicted = hypothesis(X,theta)\n",
    "    error = -1 * np.dot(y,np.log(yPrerdicted)) - np.dot((1-y),np.log(1-yPrerdicted))\n",
    "    return (error/datasetSize)\n",
    "\n",
    "#to determine derivative of the error function\n",
    "def gradient(X,y,theta):\n",
    "    yPrerdicted = hypothesis(X,theta)\n",
    "    #to generate number of gradients to the number of features \n",
    "    return ((np.dot(X.T,yPrerdicted-y))/datasetSize)\n",
    "\n",
    "#to determine optimal theta value for a binary model for error reduction\n",
    "def gradientDescent(X,y,learningRate=0.01,iterations=100):\n",
    "    m,n = X.shape\n",
    "    theta = np.zeros((n,))\n",
    "    errorList=[]\n",
    "    for _ in range(iterations):\n",
    "        err = costFunction(X,y,theta)\n",
    "        errorList.append(err)\n",
    "        grad = gradient(X,y,theta)\n",
    "        theta -= learningRate*grad\n",
    "    return theta,errorList\n",
    "\n",
    "#list of all unique target classes\n",
    "uniqueTarget = np.unique(y_test, axis=0)\n",
    "\n",
    "#len of the target class\n",
    "numberOfTargets = uniqueTarget.shape[0]\n",
    "\n",
    "#As the given dataset is a multi-class model, using one vs rest to determine the optimal value for every given class\n",
    "def oneVsRest(uniqueTarget, X_train, y_train, iterations, learningRate):\n",
    "    theta = np.zeros((numberOfTargets,X_train.shape[1]))\n",
    "    tmp = 0\n",
    "    for category in uniqueTarget:\n",
    "        _y = np.array(y_train == category)\n",
    "        _theta,errorList = gradientDescent(X_train, _y, learningRate, iterations)\n",
    "        theta[tmp] = _theta.T\n",
    "        tmp += 1\n",
    "    return theta\n",
    "\n",
    "#To generate an array of all max class probabilities\n",
    "def predict(X_train, X_test, y_train, y_test, learningRate=0.01, iterations=500):\n",
    "    theta = oneVsRest(uniqueTarget, X_train, y_train, iterations, learningRate)\n",
    "    probability = sigmoid(X_test.dot(theta.T))\n",
    "    prediction = probability.idxmax(axis=1)\n",
    "    return prediction\n",
    "\n",
    "#Accuracy function to determine accuracy of the model\n",
    "def accuracy(y_test,prediction):\n",
    "    return (sum(y_test == prediction) / len(y_test))"
   ]
  },
  {
   "cell_type": "code",
   "execution_count": 8,
   "metadata": {},
   "outputs": [
    {
     "name": "stdout",
     "output_type": "stream",
     "text": [
      "0.9803921568627451\n"
     ]
    }
   ],
   "source": [
    "prediction = predict(X_train, X_test, y_train, y_test,0.1,500)\n",
    "accuracyScore = accuracy(y_test,prediction)\n",
    "print(accuracyScore)"
   ]
  },
  {
   "cell_type": "code",
   "execution_count": 9,
   "metadata": {},
   "outputs": [
    {
     "name": "stdout",
     "output_type": "stream",
     "text": [
      "Scratch Model Test-1 score is 0.9803921568627451\n",
      "Scikit Learn Model-1 score is 0.9803921568627451\n",
      "\n",
      "Scratch Model Test-2 score is 1.0\n",
      "Scikit Learn Model-2 score is 1.0\n",
      "\n",
      "Scratch Model Test-3 score is 0.9607843137254902\n",
      "Scikit Learn Model-3 score is 0.9607843137254902\n",
      "\n",
      "Scratch Model Test-4 score is 0.9411764705882353\n",
      "Scikit Learn Model-4 score is 0.9607843137254902\n",
      "\n",
      "Scratch Model Test-5 score is 0.9411764705882353\n",
      "Scikit Learn Model-5 score is 0.9607843137254902\n",
      "\n",
      "Scratch Model Test-6 score is 0.9411764705882353\n",
      "Scikit Learn Model-6 score is 0.9411764705882353\n",
      "\n",
      "Scratch Model Test-7 score is 0.9803921568627451\n",
      "Scikit Learn Model-7 score is 0.9607843137254902\n",
      "\n",
      "Scratch Model Test-8 score is 0.9411764705882353\n",
      "Scikit Learn Model-8 score is 0.9411764705882353\n",
      "\n",
      "Scratch Model Test-9 score is 0.9411764705882353\n",
      "Scikit Learn Model-9 score is 0.9607843137254902\n",
      "\n",
      "Scratch Model Test-10 score is 0.9607843137254902\n",
      "Scikit Learn Model-10 score is 1.0\n",
      "\n",
      "Average Score of the Model: 0.9588235294117649\n",
      "Average Score of Scikit-Learn Model: 0.9666666666666668\n"
     ]
    }
   ],
   "source": [
    "#Checking accuracy by shuffling dataset\n",
    "def crossValidation(X,y,randomDivision):\n",
    "    modelScoreList = []\n",
    "    scikitScoreList = []\n",
    "    \n",
    "    for _ in range(randomDivision):\n",
    "        X_train1, X_test1, y_train1, y_test1 = train_test_split(X, y, test_size=0.33)\n",
    "        \n",
    "        y_train1 = Encoder(y_train1)\n",
    "        y_test1 = Encoder(y_test1)\n",
    "        \n",
    "        prediction = predict(X_train1, X_test1, y_train1, y_test1, learningRate=0.1, iterations=50)\n",
    "        acuracyScore = accuracy(y_test1,prediction)\n",
    "        \n",
    "        #Logistics Regression using sklearn in-built library\n",
    "        lr = LogisticRegression()\n",
    "        scikitModel = lr.fit(X_train1, y_train1)\n",
    "        scikitModelAccuracy = scikitModel.score(X_test1, y_test1)\n",
    "        \n",
    "        print(\"Scratch Model Test-{0} score is {1}\".format(_+1,acuracyScore))\n",
    "        print(\"Scikit Learn Model-{0} score is {1}\".format(_+1,scikitModelAccuracy))\n",
    "        modelScoreList.append(acuracyScore) \n",
    "        scikitScoreList.append(scikitModelAccuracy)\n",
    "        print()\n",
    "        \n",
    "    print(\"Average Score of the Model:\",sum(modelScoreList)/randomDivision)\n",
    "    print(\"Average Score of Scikit-Learn Model:\",(sum(scikitScoreList)/randomDivision))\n",
    "    \n",
    "crossValidation(X,y,10)"
   ]
  },
  {
   "cell_type": "code",
   "execution_count": 10,
   "metadata": {},
   "outputs": [
    {
     "name": "stdout",
     "output_type": "stream",
     "text": [
      "              precision    recall  f1-score   support\n",
      "\n",
      "           0       0.94      1.00      0.97        16\n",
      "           1       1.00      0.94      0.97        18\n",
      "           2       1.00      1.00      1.00        17\n",
      "\n",
      "    accuracy                           0.98        51\n",
      "   macro avg       0.98      0.98      0.98        51\n",
      "weighted avg       0.98      0.98      0.98        51\n",
      "\n"
     ]
    }
   ],
   "source": [
    "print(classification_report(y_test,prediction))"
   ]
  },
  {
   "cell_type": "code",
   "execution_count": 11,
   "metadata": {},
   "outputs": [
    {
     "name": "stdout",
     "output_type": "stream",
     "text": [
      "Area Under the Curve: 0.9857142857142857\n",
      "Area Under the Curve: 0.9722222222222222\n",
      "Area Under the Curve: 1.0\n"
     ]
    },
    {
     "data": {
      "image/png": "[encoded data removed]",
      "text/plain": [
       "<Figure size 432x288 with 1 Axes>"
      ]
     },
     "metadata": {
      "needs_background": "light"
     },
     "output_type": "display_data"
    },
    {
     "data": {
      "image/png": "[encoded data removed]",
      "text/plain": [
       "<Figure size 432x288 with 1 Axes>"
      ]
     },
     "metadata": {
      "needs_background": "light"
     },
     "output_type": "display_data"
    },
    {
     "data": {
      "image/png": "[encoded data removed]",
      "text/plain": [
       "<Figure size 432x288 with 1 Axes>"
      ]
     },
     "metadata": {
      "needs_background": "light"
     },
     "output_type": "display_data"
    }
   ],
   "source": [
    "#ROC curve for multi-class classification\n",
    "lb = LabelBinarizer()\n",
    "lb_yTest = lb.fit(y_test).transform(y_test)\n",
    "lb_prediction = lb.transform(prediction)\n",
    "\n",
    "fpr = dict()\n",
    "tpr = dict()\n",
    "roc_auc = dict()\n",
    "for targetclass in range(len(uniqueTarget)):\n",
    "    fpr[targetclass], tpr[targetclass], _ = roc_curve(lb_yTest[:,targetclass], lb_prediction[:,targetclass])\n",
    "    roc_auc[targetclass] = auc(fpr[targetclass], tpr[targetclass])\n",
    "    print(\"Area Under the Curve:\",roc_auc[targetclass])\n",
    "for targetclass in range(len(uniqueTarget)):\n",
    "    plt.figure()\n",
    "    plt.plot(fpr[targetclass], tpr[targetclass], roc_auc[targetclass])\n",
    "    plt.plot([0, 1], [0, 1], 'k--')\n",
    "    plt.xlim([0.0, 1.0])\n",
    "    plt.ylim([0.0, 1.05])\n",
    "    plt.xlabel('False Positive Rate')\n",
    "    plt.ylabel('True Positive Rate')\n",
    "plt.show()"
   ]
  },
  {
   "cell_type": "code",
   "execution_count": 12,
   "metadata": {
    "scrolled": true
   },
   "outputs": [
    {
     "data": {
      "image/png": "[encoded data removed]",
      "text/plain": [
       "<Figure size 432x288 with 2 Axes>"
      ]
     },
     "metadata": {
      "needs_background": "light"
     },
     "output_type": "display_data"
    }
   ],
   "source": [
    "#Visualizing the heatmap for the model created\n",
    "modelConfusionMatrix = confusion_matrix(prediction,y_test)\n",
    "sns.heatmap(modelConfusionMatrix,annot=True,cmap='Blues')\n",
    "plt.title('Model Confusion Matrix')\n",
    "plt.show()"
   ]
  },
  {
   "cell_type": "code",
   "execution_count": 13,
   "metadata": {},
   "outputs": [],
   "source": [
    "#Creating output CSV file as mentioned in the question\n",
    "output = []\n",
    "def outputCSVFile(prediction,y_test):\n",
    "    result = pd.DataFrame()\n",
    "    for i in range(len(y_test)):\n",
    "        if prediction.values[i]==y_test[i]:\n",
    "            output.append([prediction.values[i],y_test[i],'Match'])\n",
    "            result = pd.DataFrame(output,columns=['Predicted Value','Original Value','Comparision'])\n",
    "        else:\n",
    "            output.append([prediction.values[i],y_test[i],'Unmatch'])\n",
    "            result = pd.DataFrame(output,columns=['Predicted Value','Original Value','Comparision'])\n",
    "    result.to_csv('Comparision.csv',index=False,sep='\\t')"
   ]
  },
  {
   "cell_type": "code",
   "execution_count": 14,
   "metadata": {},
   "outputs": [],
   "source": [
    "result = outputCSVFile(prediction,y_test)"
   ]
  },
  {
   "cell_type": "code",
   "execution_count": 15,
   "metadata": {},
   "outputs": [],
   "source": [
    "#Logistics Regression using sklearn in-built library\n",
    "lr = LogisticRegression()\n",
    "scikitModel = lr.fit(X_train, y_train)"
   ]
  },
  {
   "cell_type": "code",
   "execution_count": 16,
   "metadata": {},
   "outputs": [
    {
     "data": {
      "text/plain": [
       "0.9803921568627451"
      ]
     },
     "execution_count": 16,
     "metadata": {},
     "output_type": "execute_result"
    }
   ],
   "source": [
    "scikitModel.score(X_test, y_test)"
   ]
  },
  {
   "cell_type": "code",
   "execution_count": 17,
   "metadata": {},
   "outputs": [],
   "source": [
    "scikitModelPrediction = scikitModel.predict(X_test)\n",
    "confusionMatrix = confusion_matrix(scikitModelPrediction, y_test)"
   ]
  },
  {
   "cell_type": "code",
   "execution_count": 18,
   "metadata": {},
   "outputs": [
    {
     "data": {
      "image/png": "[encoded data removed]",
      "text/plain": [
       "<Figure size 432x288 with 2 Axes>"
      ]
     },
     "metadata": {
      "needs_background": "light"
     },
     "output_type": "display_data"
    }
   ],
   "source": [
    "sns.heatmap(confusionMatrix,annot=True,cmap='Reds')\n",
    "plt.title('Scikit-Learn Model Confusion Matrix')\n",
    "plt.show()"
   ]
  }
 ],
 "metadata": {
  "kernelspec": {
   "display_name": "Python 3",
   "language": "python",
   "name": "python3"
  },
  "language_info": {
   "codemirror_mode": {
    "name": "ipython",
    "version": 3
   },
   "file_extension": ".py",
   "mimetype": "text/x-python",
   "name": "python",
   "nbconvert_exporter": "python",
   "pygments_lexer": "ipython3",
   "version": "3.8.3"
  }
 },
 "nbformat": 4,
 "nbformat_minor": 4
}
