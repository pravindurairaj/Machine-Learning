{
 "cells": [
  {
   "cell_type": "code",
   "execution_count": 30,
   "metadata": {},
   "outputs": [],
   "source": [
    "import pandas as pd\n",
    "from sklearn.tree import DecisionTreeClassifier\n",
    "#pandas to load and read the data"
   ]
  },
  {
   "cell_type": "code",
   "execution_count": 68,
   "metadata": {},
   "outputs": [
    {
     "name": "stdout",
     "output_type": "stream",
     "text": [
      "False\n"
     ]
    },
    {
     "data": {
      "text/html": [
       "<div>\n",
       "<style scoped>\n",
       "    .dataframe tbody tr th:only-of-type {\n",
       "        vertical-align: middle;\n",
       "    }\n",
       "\n",
       "    .dataframe tbody tr th {\n",
       "        vertical-align: top;\n",
       "    }\n",
       "\n",
       "    .dataframe thead th {\n",
       "        text-align: right;\n",
       "    }\n",
       "</style>\n",
       "<table border=\"1\" class=\"dataframe\">\n",
       "  <thead>\n",
       "    <tr style=\"text-align: right;\">\n",
       "      <th></th>\n",
       "      <th>calorific_value</th>\n",
       "      <th>nitrogen</th>\n",
       "      <th>turbidity</th>\n",
       "      <th>style</th>\n",
       "      <th>alcohol</th>\n",
       "      <th>sugars</th>\n",
       "      <th>bitterness</th>\n",
       "      <th>colour</th>\n",
       "      <th>degree_of_fermentation</th>\n",
       "    </tr>\n",
       "  </thead>\n",
       "  <tbody>\n",
       "    <tr>\n",
       "      <th>0</th>\n",
       "      <td>45.305310</td>\n",
       "      <td>0.459548</td>\n",
       "      <td>1.917273</td>\n",
       "      <td>ale</td>\n",
       "      <td>4.227692</td>\n",
       "      <td>16.67</td>\n",
       "      <td>12.568947</td>\n",
       "      <td>11.04</td>\n",
       "      <td>62.178571</td>\n",
       "    </tr>\n",
       "    <tr>\n",
       "      <th>1</th>\n",
       "      <td>43.889381</td>\n",
       "      <td>0.548977</td>\n",
       "      <td>3.186364</td>\n",
       "      <td>ale</td>\n",
       "      <td>4.289231</td>\n",
       "      <td>16.73</td>\n",
       "      <td>14.974000</td>\n",
       "      <td>13.44</td>\n",
       "      <td>63.032857</td>\n",
       "    </tr>\n",
       "    <tr>\n",
       "      <th>2</th>\n",
       "      <td>41.588496</td>\n",
       "      <td>0.542847</td>\n",
       "      <td>1.568182</td>\n",
       "      <td>ale</td>\n",
       "      <td>4.344615</td>\n",
       "      <td>16.48</td>\n",
       "      <td>11.848789</td>\n",
       "      <td>14.04</td>\n",
       "      <td>63.468571</td>\n",
       "    </tr>\n",
       "    <tr>\n",
       "      <th>3</th>\n",
       "      <td>44.553097</td>\n",
       "      <td>0.480301</td>\n",
       "      <td>1.871818</td>\n",
       "      <td>ale</td>\n",
       "      <td>4.424615</td>\n",
       "      <td>18.59</td>\n",
       "      <td>13.879632</td>\n",
       "      <td>12.48</td>\n",
       "      <td>63.531429</td>\n",
       "    </tr>\n",
       "    <tr>\n",
       "      <th>4</th>\n",
       "      <td>41.013274</td>\n",
       "      <td>0.441860</td>\n",
       "      <td>2.345455</td>\n",
       "      <td>ale</td>\n",
       "      <td>4.264615</td>\n",
       "      <td>16.35</td>\n",
       "      <td>12.186053</td>\n",
       "      <td>12.12</td>\n",
       "      <td>63.747143</td>\n",
       "    </tr>\n",
       "  </tbody>\n",
       "</table>\n",
       "</div>"
      ],
      "text/plain": [
       "   calorific_value  nitrogen  turbidity style   alcohol  sugars  bitterness  \\\n",
       "0        45.305310  0.459548   1.917273   ale  4.227692   16.67   12.568947   \n",
       "1        43.889381  0.548977   3.186364   ale  4.289231   16.73   14.974000   \n",
       "2        41.588496  0.542847   1.568182   ale  4.344615   16.48   11.848789   \n",
       "3        44.553097  0.480301   1.871818   ale  4.424615   18.59   13.879632   \n",
       "4        41.013274  0.441860   2.345455   ale  4.264615   16.35   12.186053   \n",
       "\n",
       "   colour  degree_of_fermentation  \n",
       "0   11.04               62.178571  \n",
       "1   13.44               63.032857  \n",
       "2   14.04               63.468571  \n",
       "3   12.48               63.531429  \n",
       "4   12.12               63.747143  "
      ]
     },
     "execution_count": 68,
     "metadata": {},
     "output_type": "execute_result"
    }
   ],
   "source": [
    "input_data=pd.read_csv(\"beer_training.txt\",sep=\"\\t\",header=None)\n",
    "input_data.columns=[\"calorific_value\",\"nitrogen\",\"turbidity\",\"style\",\"alcohol\",\"sugars\",\"bitterness\",\"beer_id\",\"colour\",\"degree_of_fermentation\"]\n",
    "\n",
    "print(input_data.isnull().values.any())\n",
    "\n",
    "new_data=input_data.drop('beer_id',axis=1)\n",
    "\n",
    "y=new_data['style']\n",
    "x=new_data.drop('style',axis=1)\n",
    "\n",
    "new_data.head()"
   ]
  },
  {
   "cell_type": "code",
   "execution_count": 41,
   "metadata": {},
   "outputs": [],
   "source": [
    "style_classifier=DecisionTreeClassifier(random_state=0)"
   ]
  },
  {
   "cell_type": "code",
   "execution_count": 42,
   "metadata": {
    "scrolled": true
   },
   "outputs": [
    {
     "data": {
      "text/plain": [
       "DecisionTreeClassifier(random_state=0)"
      ]
     },
     "execution_count": 42,
     "metadata": {},
     "output_type": "execute_result"
    }
   ],
   "source": [
    "style_classifier.fit(x,y)"
   ]
  },
  {
   "cell_type": "code",
   "execution_count": 54,
   "metadata": {
    "scrolled": true
   },
   "outputs": [],
   "source": [
    "test_data=pd.read_csv(\"beer_test.txt\",sep='\\t',header=None)\n",
    "\n",
    "test_data.columns=[\"calorific_value\",\"nitrogen\",\"turbidity\",\"style\",\"alcohol\",\"sugars\",\"bitterness\",\"beer_id\",\"colour\",\"degree_of_fermentation\"]\n",
    "\n",
    "#print(test_data)\n",
    "\n",
    "test_data=test_data.drop('beer_id',axis=1)\n",
    "\n",
    "y_test=test_data['style']\n",
    "x_test=test_data.drop('style',axis=1)\n",
    "\n",
    "#print(x_test,y_test)"
   ]
  },
  {
   "cell_type": "code",
   "execution_count": 55,
   "metadata": {},
   "outputs": [],
   "source": [
    "prediction=style_classifier.predict(x_test)"
   ]
  },
  {
   "cell_type": "code",
   "execution_count": 56,
   "metadata": {},
   "outputs": [],
   "source": [
    "from sklearn.metrics import accuracy_score"
   ]
  },
  {
   "cell_type": "code",
   "execution_count": 57,
   "metadata": {},
   "outputs": [
    {
     "data": {
      "text/plain": [
       "0.8333333333333334"
      ]
     },
     "execution_count": 57,
     "metadata": {},
     "output_type": "execute_result"
    }
   ],
   "source": [
    "accuracy_score(y_test,prediction)"
   ]
  },
  {
   "cell_type": "code",
   "execution_count": 59,
   "metadata": {},
   "outputs": [],
   "source": [
    "from sklearn.naive_bayes import GaussianNB\n",
    "classifier=GaussianNB()"
   ]
  },
  {
   "cell_type": "code",
   "execution_count": 60,
   "metadata": {},
   "outputs": [
    {
     "data": {
      "text/plain": [
       "GaussianNB()"
      ]
     },
     "execution_count": 60,
     "metadata": {},
     "output_type": "execute_result"
    }
   ],
   "source": [
    "classifier.fit(x,y)"
   ]
  },
  {
   "cell_type": "code",
   "execution_count": 61,
   "metadata": {},
   "outputs": [],
   "source": [
    "Gaussian_prediction=classifier.predict(x_test)"
   ]
  },
  {
   "cell_type": "code",
   "execution_count": 62,
   "metadata": {},
   "outputs": [
    {
     "data": {
      "text/plain": [
       "0.9333333333333333"
      ]
     },
     "execution_count": 62,
     "metadata": {},
     "output_type": "execute_result"
    }
   ],
   "source": [
    "accuracy_score(y_test,Gaussian_prediction)"
   ]
  },
  {
   "cell_type": "code",
   "execution_count": 66,
   "metadata": {},
   "outputs": [],
   "source": [
    "from sklearn.metrics import confusion_matrix\n",
    "import seaborn as sns"
   ]
  },
  {
   "cell_type": "code",
   "execution_count": 67,
   "metadata": {},
   "outputs": [
    {
     "data": {
      "text/plain": [
       "<matplotlib.axes._subplots.AxesSubplot at 0x203e7bd0d00>"
      ]
     },
     "execution_count": 67,
     "metadata": {},
     "output_type": "execute_result"
    },
    {
     "data": {
      "image/png": "[encoded data removed]",
      "text/plain": [
       "<Figure size 432x288 with 2 Axes>"
      ]
     },
     "metadata": {
      "needs_background": "light"
     },
     "output_type": "display_data"
    }
   ],
   "source": [
    "DT_conf_mat=confusion_matrix(y,)\n",
    "conf_mat=confusion_matrix(y_test,prediction)\n",
    "sns.heatmap()\n",
    "sns.heatmap(conf_mat,annot=True)"
   ]
  }
 ],
 "metadata": {
  "kernelspec": {
   "display_name": "Python 3",
   "language": "python",
   "name": "python3"
  },
  "language_info": {
   "codemirror_mode": {
    "name": "ipython",
    "version": 3
   },
   "file_extension": ".py",
   "mimetype": "text/x-python",
   "name": "python",
   "nbconvert_exporter": "python",
   "pygments_lexer": "ipython3",
   "version": "3.8.3"
  }
 },
 "nbformat": 4,
 "nbformat_minor": 4
}
